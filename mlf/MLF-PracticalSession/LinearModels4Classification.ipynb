{
 "cells": [
  {
   "cell_type": "markdown",
   "metadata": {},
   "source": [
    "# Perceptron, Adaline and Logistique Regression"
   ]
  },
  {
   "cell_type": "markdown",
   "metadata": {},
   "source": [
    "We are interested in the implementation of the perceptron algorithm (Rosenblatt, 68), Adaline (Widrow et Hoff, 60) and Logisitc Regression (Cox, 66) whose pseudo-code are the following:\n",
    "\n",
    "Perceptron:\n",
    "`Input: Train, eta, MaxEp\n",
    "init: w\n",
    "epoch = 0\n",
    "err = 1\n",
    "m = len(Train)\n",
    "while epoque <= MaxEp and err! = 0\n",
    "    err = 0\n",
    "    for i in 1: m\n",
    "        choose randomly an example (x,y)\n",
    "        h <- w * x\n",
    "        if (y * h <= 0)\n",
    "            w <- w + eta * y * x\n",
    "            err <- err + 1\n",
    "     epoch <- epoch + 1\n",
    "output: w`\n",
    "\n",
    "Adaline:\n",
    "`input: Train, eta, MaxEp\n",
    "init : w\n",
    "epoque=0\n",
    "err=1\n",
    "m = len(Train)\n",
    "while epoque<=MaxEp and err!=0\n",
    "    err=0\n",
    "    for i in 1:m\n",
    "        choose randomly an example (x,y)\n",
    "        h <- w*x\n",
    "        if(y*h<=0)\n",
    "           err <- err+1\n",
    "        w <- w + eta*(y-dp)*x\n",
    "     epoque <- epoque+1\n",
    "output: w`\n",
    "\n",
    "Logistic Regression:\n",
    "`input: Train, eta, MaxEp\n",
    "init : w\n",
    "epoque=0\n",
    "err=1\n",
    "m = len(Train)\n",
    "while epoque<=MaxEp and err!=0\n",
    "    err=0\n",
    "    for i in 1:m\n",
    "        choose randomly an example (x,y)\n",
    "        h <- w*x\n",
    "        if(y*h<=0)\n",
    "           err <- err+1\n",
    "        w <- w + eta*y*(1-sigm(y*dp))*x\n",
    "     epoque <- epoque+1\n",
    "output: w`\n",
    "\n",
    "1. Create a list of 4 elements corresponding to the logical AND example called `Train`:\n",
    "$Train=\\{((1,+1,+1),+1),((1,-1,+1),-1),((1,-1,-1),-1),((1,+1,-1),-1)\\}$\n",
    "\n",
    "Each element of the list is a list which last characteristic is the class of the example and the first characteristics their coordinates with the biais '1' included at the beginning of each vector.\n",
    "\n",
    "    "
   ]
  },
  {
   "cell_type": "code",
   "execution_count": 17,
   "metadata": {},
   "outputs": [],
   "source": [
    "Train=[] # To be filled"
   ]
  },
  {
   "cell_type": "markdown",
   "metadata": {},
   "source": [
    "2. Code the Perceptron, Adaline and LR (Logistic regression) programs\n",
    "\n",
    "Hint: You can write a function that calculates the dot product between an example $\\mathbf{x} = (x_1, \\ldots, x_d)$ and the weight vector $\\mathbf{w} = (w_0, w_1, \\ldots, w_d)$: \n",
    "$ h(\\mathbf{x},\\mathbf{w}) = w_0 + \\sum_ {j = 1} ^ d w_j x_j $.\n"
   ]
  },
  {
   "cell_type": "code",
   "execution_count": 4,
   "metadata": {},
   "outputs": [],
   "source": [
    "from math import exp\n",
    "def h(x,w):\n",
    "    # The prediction of the model\n",
    "    Pred=0.0\n",
    "    \n",
    "    return Pred\n",
    "\n",
    "def Perceptron(Train,eta,MaxEp):\n",
    "    # Perceptron Algorithm \n",
    "    d=len(Train[0])-1\n",
    "    m=len(Train)\n",
    "    W=[0.0 for i in range(d+1)]\n",
    "\n",
    "    \n",
    "    return W\n",
    "\n",
    "    \n",
    "def Adaline(Train,eta,MaxEp):\n",
    "    # Adaline Algorithm \n",
    "    d=len(Train[0])-1\n",
    "    m=len(Train)\n",
    "    W=[0.0 for i in range(d+1)]\n",
    "\n",
    "    \n",
    "    return W\n",
    "\n",
    "def sigmoid(z):\n",
    "    return (1.0/(1.0+exp(-z)))\n",
    "\n",
    "def LR(Train,eta,MaxEp):\n",
    "    # Logisitc Regression Algorithm \n",
    "    d=len(Train[0])-1\n",
    "    m=len(Train)\n",
    "    W=[0.0 for i in range(d+1)]\n",
    "\n",
    "    \n",
    "    return W\n"
   ]
  },
  {
   "cell_type": "markdown",
   "metadata": {},
   "source": [
    "3. Apply the three learning models on the logical AND, and calculate the model error rate on this basis.\n",
    "\n",
    "Hint: You can write a function that takes a weight vector $\\mathbf{w}$ and an example $(\\mathbf{x},y)$ and calculates the error rate of the model with weight $\\mathbf{w}$."
   ]
  },
  {
   "cell_type": "code",
   "execution_count": 6,
   "metadata": {},
   "outputs": [],
   "source": [
    "def EmpiricalRisk(Test,W):\n",
    "    E=0.0\n",
    "    m=len(Test)\n",
    "    # The empirical error of a model with weight W on a test set of size m\n",
    "    for Obs in Test:\n",
    "        y = Obs[-1]\n",
    "        h_w = h(Obs[:-1], W)\n",
    "        if (y*h_w <= 0):\n",
    "            E+=1.0\n",
    "    return E/float(m)\n",
    "\n"
   ]
  },
  {
   "cell_type": "markdown",
   "metadata": {},
   "source": [
    "4. We are now going to focus on the behavior of the three models on http://archive.ics.uci.edu/ml/datasets/connectionist+bench+(sonar,+mines+vs.+rocks), https://archive.ics.uci.edu/ml/datasets/spambase, https://archive.ics.uci.edu/ml/datasets/Breast+Cancer+Wisconsin+%28Original%29, https://archive.ics.uci.edu/ml/datasets/Ionosphere. These files are in the current respository with the names `sonar.txt`; `spam.txt`; `wdbc.txt` and `ionoshpere.txt`. We can use the following `ReadCollection` function in order to read the files in the form of the training set that is requested. "
   ]
  },
  {
   "cell_type": "code",
   "execution_count": 2,
   "metadata": {},
   "outputs": [],
   "source": [
    "from math import sqrt\n",
    "import pandas as pd\n",
    "import random\n",
    "from sklearn.model_selection import train_test_split\n",
    "\n",
    "def Normalize(x):\n",
    "    norm=0.0\n",
    "    for e in x:\n",
    "        norm+=e**2\n",
    "    for i in range(len(x)):\n",
    "        x[i]/=sqrt(norm)\n",
    "    return x\n",
    "\n",
    "def ReadCollection(filename):\n",
    "    tag_df=pd.read_table(filename,sep=',',header=None)\n",
    "    if(\"wdbc\" in filename):\n",
    "        Dic={'M': -1, 'B': +1}\n",
    "    elif(\"sonar\" in filename):\n",
    "        Dic={'R': -1, 'M': +1}\n",
    "    elif(\"iono\" in filename):\n",
    "        Dic={'g': -1, 'b': +1}\n",
    "    elif(\"spam\" in filename):\n",
    "        Dic={0:-1, 1:+1}\n",
    "        \n",
    "    X=[]\n",
    "    for e in range(len(tag_df)):\n",
    "        x=list(tag_df.loc[e,:])\n",
    "        if(\"wdbc\" in filename):\n",
    "            x.pop(0)\n",
    "            cls=x.pop(0)\n",
    "        else:\n",
    "            cls=x.pop()\n",
    "        x=Normalize(x)\n",
    "        x.insert(len(x),Dic[cls])\n",
    "        X.append(x)\n",
    "    random.shuffle(X)\n",
    "\n",
    "    return X\n",
    "\n",
    "wdbc_col = ReadCollection(\"wdbc.txt\")\n",
    "sonar_col = ReadCollection(\"sonar.txt\")\n",
    "iono_col = ReadCollection(\"ionosphere.txt\")\n",
    "spam_col = ReadCollection(\"spam.txt\")\n"
   ]
  },
  {
   "cell_type": "markdown",
   "metadata": {},
   "source": [
    " 2. Run the three models on these files with $\\eta=0.01$ et $\\eta=0.1$ and `MaxEp=500`.\n",
    " \n",
    " 3. Report in the table below the average of the error rates on the test by repeating each experiment 10 times. \n",
    " \n",
    " <br>\n",
    " <br>\n",
    " \n",
    " \n",
    " <center> $\\eta=0.01$, MaxE$=500$ </center>\n",
    "    \n",
    "    \n",
    "  | Collection | Perceptron | Adaline |    RL    |\n",
    "  |------------|------------|---------|----------|\n",
    "  | WDBC       |            |         |          |\n",
    "  | Ionosphere |            |         |          |\n",
    "  | Sonar      |            |         |          |\n",
    "  | Spam       |            |         |          |\n",
    " \n",
    " <br><br>\n",
    "  \n",
    "  <center> $\\eta=0.1$, MaxEp$=500$ </center>\n",
    "    \n",
    "    \n",
    "  | Collection | Perceptron | Adaline |    RL    |\n",
    "  |------------|------------|---------|----------|\n",
    "  | WDBC       |            |         |          |\n",
    "  | Ionosphere |            |         |          |\n",
    "  | Sonar      |            |         |          |\n",
    "  | Spam       |            |         |          |\n",
    "  \n",
    "  Hint: you can use the following function"
   ]
  },
  {
   "cell_type": "code",
   "execution_count": 7,
   "metadata": {},
   "outputs": [
    {
     "name": "stdout",
     "output_type": "stream",
     "text": [
      "eta=0.01\n",
      "-------\n",
      "| WDBC | 1.0000 | 1.0000 | 1.0\n",
      "| Ionosphere | 1.0000 | 1.0000 | 1.0\n",
      "| Sonar | 1.0000 | 1.0000 | 1.0\n",
      "| Spam | 1.0000 | 1.0000 | 1.0\n",
      "eta=0.1\n",
      "-------\n",
      "| WDBC | 1.0000 | 1.0000 | 1.0\n",
      "| Ionosphere | 1.0000 | 1.0000 | 1.0\n",
      "| Sonar | 1.0000 | 1.0000 | 1.0\n",
      "| Spam | 1.0000 | 1.0000 | 1.0\n"
     ]
    }
   ],
   "source": [
    "for eta in [0.01,0.1]:\n",
    "    print(f'eta={eta}\\n-------')\n",
    "    for name, X in zip([\"WDBC\", \"Ionosphere\", \"Sonar\", \"Spam\"],[wdbc_col,iono_col,sonar_col,spam_col]):\n",
    "        errP=errA=errL=0.0\n",
    "        for i in range(20):\n",
    "            x_train ,x_test = train_test_split(X,test_size=0.25)\n",
    "            WLP=Perceptron(x_train,eta,500)\n",
    "            errP+=EmpiricalRisk(x_test,WLP)\n",
    "            WLA=Adaline(x_train,eta,500)\n",
    "            errA+=EmpiricalRisk(x_test,WLA)\n",
    "            WLR=LR(x_train,eta,500)\n",
    "            errL+=EmpiricalRisk(x_test,WLR)\n",
    "    \n",
    "        print(f\"| {name} | {errP/float(20):.4f} | {errA/float(20):.4f} | {errL/float(20):0.4}\")"
   ]
  },
  {
   "cell_type": "markdown",
   "metadata": {},
   "source": [
    " 4. Normalize the vector representations of observataions by dividing them with their norm and repeat quetions 2 and 3. Are there any significant change by normalizing? Please explain.\n"
   ]
  },
  {
   "cell_type": "markdown",
   "metadata": {},
   "source": [
    "<b>Resp:</b>  "
   ]
  }
 ],
 "metadata": {
  "kernelspec": {
   "display_name": "Python 3",
   "language": "python",
   "name": "python3"
  },
  "language_info": {
   "codemirror_mode": {
    "name": "ipython",
    "version": 3
   },
   "file_extension": ".py",
   "mimetype": "text/x-python",
   "name": "python",
   "nbconvert_exporter": "python",
   "pygments_lexer": "ipython3",
   "version": "3.7.6"
  }
 },
 "nbformat": 4,
 "nbformat_minor": 1
}
