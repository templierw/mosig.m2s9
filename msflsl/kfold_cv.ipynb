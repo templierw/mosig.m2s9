{
 "cells": [
  {
   "cell_type": "code",
   "execution_count": 1,
   "metadata": {},
   "outputs": [
    {
     "data": {
      "text/plain": [
       "10"
      ]
     },
     "execution_count": 1,
     "metadata": {},
     "output_type": "execute_result"
    }
   ],
   "source": [
    "import numpy as np\n",
    "\n",
    "data = np.array([10,11,12,13,14,15,16,17,18,19])\n",
    "\n",
    "N = data.size\n",
    "N"
   ]
  },
  {
   "cell_type": "code",
   "execution_count": 53,
   "metadata": {},
   "outputs": [
    {
     "data": {
      "text/plain": [
       "[array([0, 1]), array([4, 5]), array([6, 7]), array([2, 3]), array([8, 9])]"
      ]
     },
     "execution_count": 53,
     "metadata": {},
     "output_type": "execute_result"
    }
   ],
   "source": [
    "indices = np.arange(N)\n",
    "indices = np.split(indices, 5)\n",
    "np.random.shuffle(indices)\n",
    "indices"
   ]
  },
  {
   "cell_type": "code",
   "execution_count": 61,
   "metadata": {},
   "outputs": [
    {
     "name": "stdout",
     "output_type": "stream",
     "text": [
      "test:  [0 1]\n",
      "train:  [4 5 6 7 2 3 8 9]\n",
      "test:  [4 5]\n",
      "train:  [0 1 6 7 2 3 8 9]\n",
      "test:  [6 7]\n",
      "train:  [0 1 4 5 2 3 8 9]\n",
      "test:  [2 3]\n",
      "train:  [0 1 4 5 6 7 8 9]\n",
      "test:  [8 9]\n",
      "train:  [0 1 4 5 6 7 2 3]\n"
     ]
    }
   ],
   "source": [
    "from copy import deepcopy\n",
    "\n",
    "for i in range(5):\n",
    "    test = deepcopy(indices[i])\n",
    "    print(\"test: \", test)\n",
    "    train = np.array(deepcopy(indices))\n",
    "    train = np.delete(train, i, axis=0).flatten()\n",
    "    print(\"train: \", train)"
   ]
  },
  {
   "cell_type": "code",
   "execution_count": 59,
   "metadata": {},
   "outputs": [
    {
     "data": {
      "text/plain": [
       "array([[3, 4],\n",
       "       [5, 6],\n",
       "       [7, 8]])"
      ]
     },
     "execution_count": 59,
     "metadata": {},
     "output_type": "execute_result"
    }
   ],
   "source": [
    "lalala = np.array([[1,2],[3,4],[5,6],[7,8]])\n",
    "\n",
    "np.delete(lalala, 0, axis=0)"
   ]
  },
  {
   "cell_type": "code",
   "execution_count": null,
   "metadata": {},
   "outputs": [],
   "source": [
    "def k_fold_split(k=5):\n",
    "    return"
   ]
  }
 ],
 "metadata": {
  "interpreter": {
   "hash": "916dbcbb3f70747c44a77c7bcd40155683ae19c65e1c03b4aa3499c5328201f1"
  },
  "kernelspec": {
   "display_name": "Python 3.8.10 64-bit",
   "name": "python3"
  },
  "language_info": {
   "codemirror_mode": {
    "name": "ipython",
    "version": 3
   },
   "file_extension": ".py",
   "mimetype": "text/x-python",
   "name": "python",
   "nbconvert_exporter": "python",
   "pygments_lexer": "ipython3",
   "version": "3.8.10"
  },
  "orig_nbformat": 4
 },
 "nbformat": 4,
 "nbformat_minor": 2
}
